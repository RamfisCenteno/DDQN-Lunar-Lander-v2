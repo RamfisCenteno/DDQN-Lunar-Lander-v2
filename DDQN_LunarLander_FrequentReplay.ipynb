{
 "cells": [
  {
   "cell_type": "markdown",
   "metadata": {
    "colab_type": "text",
    "id": "6Qoi4GOUDuLm"
   },
   "source": [
    "# DDQN aplicado al entorno de Lunar Lander v2 (OpenAI-gym)"
   ]
  },
  {
   "cell_type": "code",
   "execution_count": 6,
   "metadata": {
    "colab_type": "text",
    "id": "txSHXSsfDuLn"
   },
   "outputs": [],
   "source": [
    "import gym\n",
    "\n",
    "import random\n",
    "import numpy as np\n",
    "from collections import deque\n",
    "\n",
    "from tensorflow.keras.models import Sequential\n",
    "from tensorflow.keras.layers import Dense\n",
    "from tensorflow.keras.optimizers import Adam\n",
    "\n",
    "import matplotlib.pyplot as plt\n",
    "import matplotlib as mpl\n",
    "\n",
    "from time import time"
   ]
  },
  {
   "cell_type": "markdown",
   "metadata": {
    "colab_type": "text",
    "id": "M07enyn3DuLo"
   },
   "source": [
    "### Definir la clase del agente"
   ]
  },
  {
   "cell_type": "code",
   "execution_count": 7,
   "metadata": {
    "colab": {
     "base_uri": "https://localhost:8080/",
     "height": 34
    },
    "colab_type": "code",
    "id": "5zZjZ6Q3DuLp",
    "outputId": "564e108d-e855-4cde-9a25-680542463ec0"
   },
   "outputs": [],
   "source": [
    "class DDQNAgent:\n",
    "    def __init__(self, state_size, action_size, gamma, lr, ep_dec):\n",
    "        self.state_size = state_size      \n",
    "        self.action_size = action_size     \n",
    "        self.memory = deque(maxlen=4000)  \n",
    "        self.gamma = gamma                 \n",
    "        self.learning_rate = lr         \n",
    "        \n",
    "        self.epsilon = 1.0               \n",
    "        self.epsilon_min = 0.01          \n",
    "        self.epsilon_decay = ep_dec      \n",
    "        self.model = self._build_model() \n",
    "           \n",
    "        self.target_model = self._build_model() \n",
    "        self.update_target_model() \n",
    "       \n",
    "\n",
    "    def _build_model(self):\n",
    "        \n",
    "        model = Sequential()   \n",
    "        model.add(Dense(25, input_dim=self.state_size, activation='relu')) \n",
    "        model.add(Dense(20, activation='relu')) \n",
    "        model.add(Dense(self.action_size, activation='linear'))\n",
    "        \n",
    "        model.compile(loss='mse', optimizer = Adam(lr=self.learning_rate))\n",
    "        return model\n",
    "    \n",
    "    def update_target_model(self):\n",
    "        self.target_model.set_weights(self.model.get_weights())\n",
    "\n",
    "    def remember(self, state, action, reward, next_state, done): \n",
    "        self.memory.append((state, action, reward, next_state, done))\n",
    "\n",
    "    def get_action(self, state):\n",
    "        if np.random.rand() <= self.epsilon:  \n",
    "            return random.randrange(self.action_size)\n",
    "        action_values = self.model.predict(state) \n",
    "        return np.argmax(action_values[0])  \n",
    "\n",
    "    def replay(self, batch_size): \n",
    "        minibatch = random.sample(self.memory, batch_size) \n",
    "        \n",
    "        states = np.array([i[0] for i in minibatch])    \n",
    "        actions = np.array([i[1] for i in minibatch])   \n",
    "        rewards = np.array([i[2] for i in minibatch])   \n",
    "        next_states = np.array([i[3] for i in minibatch]) \n",
    "        dones = np.array([i[4] for i in minibatch])       \n",
    "        states = np.squeeze(states)\n",
    "        next_states = np.squeeze(next_states)\n",
    "        \n",
    "       \n",
    "        Qvals_next_states = self.target_model.predict_on_batch(next_states)  \n",
    "        Targets_actions = rewards + self.gamma*(np.amax(Qvals_next_states, axis=1))*(1-dones)\n",
    "              \n",
    "        Targets = self.model.predict_on_batch(states)  \n",
    "        ind = np.array([i for i in range(batch_size)])\n",
    "        Targets[[ind], [actions]] = Targets_actions   \n",
    "        \n",
    "        \n",
    "        self.model.fit(states, Targets, epochs=1, verbose=0)\n",
    "\n",
    "        if self.epsilon > self.epsilon_min: \n",
    "            self.epsilon *= self.epsilon_decay\n",
    "\n",
    "    def load(self, name):\n",
    "        self.model.load_weights(name)\n",
    "\n",
    "    def save(self, name):\n",
    "        self.model.save_weights(name)\n"
   ]
  },
  {
   "cell_type": "markdown",
   "metadata": {},
   "source": [
    "### Definir los hiperparametros "
   ]
  },
  {
   "cell_type": "code",
   "execution_count": 8,
   "metadata": {},
   "outputs": [],
   "source": [
    "done = False\n",
    "batch_size = 128\n",
    "EPISODES = 200\n",
    "GAMMA=0.99\n",
    "LEARNING_RATE=0.0008\n",
    "EP_DEC=0.998"
   ]
  },
  {
   "cell_type": "markdown",
   "metadata": {},
   "source": [
    "### Declaramos el entorno, el agente y otras variables"
   ]
  },
  {
   "cell_type": "code",
   "execution_count": 9,
   "metadata": {},
   "outputs": [
    {
     "name": "stdout",
     "output_type": "stream",
     "text": [
      "WARNING:tensorflow:From C:\\Users\\David98\\Anaconda3\\envs\\Ramfis\\lib\\site-packages\\tensorflow_core\\python\\ops\\resource_variable_ops.py:1630: calling BaseResourceVariable.__init__ (from tensorflow.python.ops.resource_variable_ops) with constraint is deprecated and will be removed in a future version.\n",
      "Instructions for updating:\n",
      "If using Keras pass *_constraint arguments to layers.\n",
      "WARNING:tensorflow:OMP_NUM_THREADS is no longer used by the default Keras config. To configure the number of threads, use tf.config.threading APIs.\n"
     ]
    }
   ],
   "source": [
    "env = gym.make('LunarLander-v2')\n",
    "state_size = env.observation_space.shape[0]\n",
    "action_size = env.action_space.n\n",
    "agent = DDQNAgent(state_size, action_size, GAMMA, LEARNING_RATE, EP_DEC)  \n",
    "\n",
    "score_list = []     \n",
    "epsilon_list = []"
   ]
  },
  {
   "cell_type": "markdown",
   "metadata": {
    "colab_type": "text",
    "id": "Mc0oWcXoDuLt"
   },
   "source": [
    "### Ejecutar el agente en el entorno LunarLander "
   ]
  },
  {
   "cell_type": "code",
   "execution_count": 46,
   "metadata": {
    "colab": {
     "base_uri": "https://localhost:8080/",
     "height": 1000
    },
    "colab_type": "code",
    "id": "V3n-Gbq9DuLu",
    "outputId": "bbe47b02-0a88-486d-f8fe-5d0625d20d3f",
    "scrolled": true
   },
   "outputs": [
    {
     "name": "stdout",
     "output_type": "stream",
     "text": [
      "episode: 0/200, score: -168.88276456147466, e: 1.0\n",
      "episode: 1/200, score: -106.48681528953198, e: 0.85\n",
      "episode: 2/200, score: -85.24568268163482, e: 0.76\n",
      "episode: 3/200, score: -101.1811540947342, e: 0.6\n",
      "episode: 4/200, score: -316.86732002841256, e: 0.52\n",
      "episode: 5/200, score: -111.75277163893635, e: 0.42\n",
      "episode: 6/200, score: -306.38044119471397, e: 0.34\n",
      "episode: 7/200, score: -295.5942227247076, e: 0.28\n",
      "episode: 8/200, score: -32.27891342892558, e: 0.2\n",
      "episode: 9/200, score: -17.832074978786267, e: 0.15\n",
      "episode: 10/200, score: -309.9322667242112, e: 0.12\n",
      "episode: 13/200, score: -86.54188075886725, e: 0.011\n",
      "episode: 14/200, score: -212.33985158132288, e: 0.01\n",
      "episode: 15/200, score: -26.426146217034514, e: 0.01\n",
      "episode: 16/200, score: -58.84655825976489, e: 0.01\n",
      "episode: 17/200, score: -273.729666858595, e: 0.01\n",
      "episode: 18/200, score: -110.9035701379744, e: 0.01\n",
      "episode: 19/200, score: -56.00603125691204, e: 0.01\n",
      "episode: 20/200, score: -70.27698363241572, e: 0.01\n",
      "episode: 21/200, score: -113.46725504266632, e: 0.01\n",
      "episode: 22/200, score: -165.7433375142183, e: 0.01\n",
      "episode: 23/200, score: -90.43998639049408, e: 0.01\n",
      "episode: 24/200, score: -54.65888432680839, e: 0.01\n",
      "episode: 25/200, score: -98.09872025207149, e: 0.01\n",
      "episode: 26/200, score: -109.56096681453758, e: 0.01\n",
      "episode: 27/200, score: -44.45507177805861, e: 0.01\n",
      "episode: 28/200, score: -15.434906555141836, e: 0.01\n",
      "episode: 31/200, score: -117.42300412444993, e: 0.01\n",
      "episode: 33/200, score: -71.64802610064764, e: 0.01\n",
      "episode: 35/200, score: -74.67600091490934, e: 0.01\n",
      "episode: 41/200, score: -233.00068313194333, e: 0.01\n",
      "episode: 55/200, score: -119.93300227614077, e: 0.01\n",
      "episode: 56/200, score: -22.293398764583728, e: 0.01\n",
      "episode: 59/200, score: -92.44933219508714, e: 0.01\n",
      "episode: 61/200, score: -134.01930422664526, e: 0.01\n",
      "episode: 68/200, score: -156.85030381415345, e: 0.01\n",
      "episode: 90/200, score: -226.79227465830456, e: 0.01\n",
      "episode: 91/200, score: -598.9342318394733, e: 0.01\n",
      "episode: 92/200, score: -336.28087274654433, e: 0.01\n",
      "episode: 93/200, score: -155.4755841064134, e: 0.01\n",
      "episode: 94/200, score: -523.9842003214278, e: 0.01\n",
      "episode: 104/200, score: -410.1164529521014, e: 0.01\n",
      "episode: 106/200, score: -291.93291587155556, e: 0.01\n",
      "episode: 107/200, score: -306.0667179459772, e: 0.01\n",
      "episode: 108/200, score: -71.52727740445954, e: 0.01\n",
      "episode: 109/200, score: -405.87054354461236, e: 0.01\n",
      "episode: 120/200, score: -199.34134282765083, e: 0.01\n",
      "episode: 125/200, score: -504.62313480096964, e: 0.01\n",
      "episode: 135/200, score: -152.3902914104049, e: 0.01\n",
      "episode: 164/200, score: -74.64794384618868, e: 0.01\n",
      "episode: 167/200, score: -143.33761763370975, e: 0.01\n",
      "episode: 168/200, score: -244.18807334291563, e: 0.01\n",
      "episode: 171/200, score: -173.62000838807944, e: 0.01\n",
      "episode: 177/200, score: -325.13195003257, e: 0.01\n",
      "episode: 178/200, score: -347.6133045746787, e: 0.01\n",
      "episode: 179/200, score: -205.69003630714172, e: 0.01\n",
      "episode: 191/200, score: -132.33887033498166, e: 0.01\n",
      "episode: 195/200, score: -114.56592030204294, e: 0.01\n",
      "1042.168399810791\n"
     ]
    }
   ],
   "source": [
    "start_time = time()\n",
    "for e in range(EPISODES):  \n",
    "    state = env.reset()    \n",
    "    state = np.reshape(state, [1, state_size])\n",
    "    score = 0\n",
    "    acc_s = 0\n",
    "    for step in range(500):  \n",
    "        #env.render()\n",
    "        action = agent.get_action(state)   \n",
    "        next_state, reward, done, _ = env.step(action)  \n",
    "        acc_s+=reward\n",
    "        next_state = np.reshape(next_state, [1, state_size])\n",
    "        agent.remember(state, action, reward, next_state, done) \n",
    "        state = next_state   \n",
    "        \n",
    "        \n",
    "        if len(agent.memory) > batch_size:  \n",
    "            agent.replay(batch_size)\n",
    "        \n",
    "        if done:  # si es estado terminal\n",
    "            print(\"episode: {}/{}, score: {}, e: {:.2}\".format(e, EPISODES, acc_s, agent.epsilon))\n",
    "            break\n",
    "            \n",
    "    agent.update_target_model() \n",
    "    score_list.append(acc_s)   \n",
    "    epsilon_list.append(agent.epsilon)\n",
    "        \n",
    "env.close()\n",
    "print(time()-start_time)"
   ]
  },
  {
   "cell_type": "markdown",
   "metadata": {},
   "source": [
    "### Graficando resultados"
   ]
  },
  {
   "cell_type": "code",
   "execution_count": 47,
   "metadata": {},
   "outputs": [
    {
     "data": {
      "text/plain": [
       "<matplotlib.legend.Legend at 0x27ba7940a20>"
      ]
     },
     "execution_count": 47,
     "metadata": {},
     "output_type": "execute_result"
    },
    {
     "data": {
      "image/png": "[encoded data removed]",
      "text/plain": [
       "<Figure size 640x360 with 1 Axes>"
      ]
     },
     "metadata": {},
     "output_type": "display_data"
    }
   ],
   "source": [
    "fig, ax = plt.subplots(figsize=(8, 4.5))\n",
    "mpl.style.use('classic')\n",
    "ax.set_title('Q-Learning Agent: Total rewards')\n",
    "ax.set_xlabel('Episode')\n",
    "#ax.set_xlim(-1000,20000)\n",
    "ax.set_ylabel('Training total reward')\n",
    "ax.plot(score_list,'-', label='reward')\n",
    "ax.legend(loc='best')"
   ]
  },
  {
   "cell_type": "markdown",
   "metadata": {
    "colab_type": "text",
    "id": "EwJ6YsOQDuLy"
   },
   "source": [
    "### Probando el agente entrenado  en el entorno LunarLander "
   ]
  },
  {
   "cell_type": "code",
   "execution_count": 10,
   "metadata": {
    "colab": {},
    "colab_type": "code",
    "id": "V82YFagRDuLz"
   },
   "outputs": [],
   "source": [
    "def play_LunarLander(agent, trials = 1):\n",
    "    env = gym.make('LunarLander-v2')\n",
    "\n",
    "    scores = []\n",
    "    for trial in range(trials):\n",
    "        score = 0\n",
    "        game_memory = []\n",
    "        state = []\n",
    "        env.reset()\n",
    "        for step in range(500):\n",
    "            env.render()\n",
    "\n",
    "            if len(state) == 0:    \n",
    "                action = random.randrange(0,4)\n",
    "            else:\n",
    "                action_values = agent.model.predict(state.reshape(1, 8)) \n",
    "                action = np.argmax(action_values[0])      \n",
    "\n",
    "            next_state, reward, done, _  = env.step(action)  \n",
    "            score += reward\n",
    "            state = next_state\n",
    "            game_memory.append([next_state, action])\n",
    "            if done: \n",
    "                #print(\"Play {}/{}, score: {}\".format(trial, trials, step))\n",
    "                break\n",
    "        print(\"Play {}/{}, score: {}\".format(trial, trials, score))\n",
    "        scores.append(score)\n",
    "    env.close()\n",
    " \n",
    "    print(\"Score medio = {}\".format(sum(scores) /float(trials)) )"
   ]
  },
  {
   "cell_type": "code",
   "execution_count": 11,
   "metadata": {
    "colab": {
     "base_uri": "https://localhost:8080/",
     "height": 522
    },
    "colab_type": "code",
    "id": "fhr4JOWbDuL5",
    "outputId": "fd69b016-4cd1-4bd5-8ce9-609879324dd8"
   },
   "outputs": [
    {
     "name": "stdout",
     "output_type": "stream",
     "text": [
      "Play 0/5, score: -708.5540775432747\n",
      "Play 1/5, score: -684.1600477907963\n",
      "Play 2/5, score: -797.8913528404065\n",
      "Play 3/5, score: -643.4858926724272\n",
      "Play 4/5, score: -668.7274898698647\n",
      "Score medio = -700.5637721433538\n"
     ]
    }
   ],
   "source": [
    "play_LunarLander(agent,5)"
   ]
  },
  {
   "cell_type": "code",
   "execution_count": null,
   "metadata": {
    "colab": {},
    "colab_type": "code",
    "id": "t5ePQAB2ie7H"
   },
   "outputs": [],
   "source": []
  },
  {
   "cell_type": "code",
   "execution_count": null,
   "metadata": {},
   "outputs": [],
   "source": []
  }
 ],
 "metadata": {
  "colab": {
   "collapsed_sections": [],
   "name": "DDQN_Cartpole_v2020.ipynb",
   "provenance": []
  },
  "kernelspec": {
   "display_name": "Python 3",
   "language": "python",
   "name": "python3"
  },
  "language_info": {
   "codemirror_mode": {
    "name": "ipython",
    "version": 3
   },
   "file_extension": ".py",
   "mimetype": "text/x-python",
   "name": "python",
   "nbconvert_exporter": "python",
   "pygments_lexer": "ipython3",
   "version": "3.7.0"
  }
 },
 "nbformat": 4,
 "nbformat_minor": 1
}
